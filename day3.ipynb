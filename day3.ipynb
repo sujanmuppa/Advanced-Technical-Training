{
 "cells": [
  {
   "cell_type": "markdown",
   "metadata": {},
   "source": [
    "# Explanation of this Seive of Eratosthenes solution\n",
    "## Problem Statement\n",
    "Given a number n, print all primes smaller than or equal to n. It is also given that n is a small number.\n",
    "\n",
    "Proof That the prime numbers will be of the form 6k+1 or 6k-1:\n",
    "\n",
    "Let's assume that the number is of the form 6k. Then the number is divisible by 2 and 3.\n",
    "\n",
    "Let's assume that the number is of the form 6k+2. Then the number is divisible by 2.\n",
    "\n",
    "Let's assume that the number is of the form 6k+3. Then the number is divisible by 3.\n",
    "\n",
    "Let's assume that the number is of the form 6k+4. Then the number is divisible by 2.\n",
    "\n",
    "So, the prime numbers will be of the form 6k+1 or 6k-1.\n",
    "\n"
   ]
  },
  {
   "cell_type": "code",
   "execution_count": 1,
   "metadata": {},
   "outputs": [],
   "source": [
    "def isprime(n):\n",
    "    if n == 1:\n",
    "        return 0\n",
    "    if n == 2 or n == 3:\n",
    "        return 1 \n",
    "    if n%2 == 0 or n%3 == 0:\n",
    "        return 0\n",
    "    for i in range (5, int(n**0.5)+1, 6):\n",
    "        if n%i == 0 or n%(i+2) == 0:\n",
    "            return 0\n",
    "    return 1"
   ]
  },
  {
   "cell_type": "code",
   "execution_count": 2,
   "metadata": {},
   "outputs": [],
   "source": [
    "def sieve_of_eratosthenes(n):\n",
    "    primes = [True] * (n+1)\n",
    "    primes[0] = primes[1] = False\n",
    "\n",
    "    p = 2\n",
    "    while p * p <= n:\n",
    "        if primes[p]:\n",
    "            for i in range(p * p, n+1, p):\n",
    "                primes[i] = False\n",
    "        p += 1\n",
    "\n",
    "    return [i for i in range(n+1) if primes[i]]\n"
   ]
  },
  {
   "cell_type": "code",
   "execution_count": 3,
   "metadata": {},
   "outputs": [
    {
     "name": "stdout",
     "output_type": "stream",
     "text": [
      "0\n"
     ]
    }
   ],
   "source": [
    "# print(seive_of_eratosthenes(100))"
   ]
  },
  {
   "cell_type": "code",
   "execution_count": null,
   "metadata": {},
   "outputs": [],
   "source": [
    "def show_case(l):\n",
    "    "
   ]
  },
  {
   "cell_type": "markdown",
   "metadata": {},
   "source": []
  }
 ],
 "metadata": {
  "kernelspec": {
   "display_name": "Python 3",
   "language": "python",
   "name": "python3"
  },
  "language_info": {
   "codemirror_mode": {
    "name": "ipython",
    "version": 3
   },
   "file_extension": ".py",
   "mimetype": "text/x-python",
   "name": "python",
   "nbconvert_exporter": "python",
   "pygments_lexer": "ipython3",
   "version": "3.10.11"
  }
 },
 "nbformat": 4,
 "nbformat_minor": 2
}
